{
 "cells": [
  {
   "cell_type": "code",
   "execution_count": 3,
   "metadata": {},
   "outputs": [
    {
     "name": "stdout",
     "output_type": "stream",
     "text": [
      "[2024-07-27 10:26:17,242 INFO] Loading checkpoint from /root/projects/zindi/nmt_train/models/nllb-200-600M-zindi_V1_step_1600.pt\n",
      "[2024-07-27 10:26:20,605 INFO] Loading data into the model\n",
      "[2024-07-27 10:26:56,601 INFO] PRED SCORE: -0.9682, PRED PPL: 2.63 NB SENTENCES: 9536\n",
      "[2024-07-27 10:26:56,601 INFO] GOLD SCORE: -4.5596, GOLD PPL: 95.55 NB SENTENCES: 9536\n",
      "[2024-07-27 10:26:56,601 INFO] Total translation time (s): 34.4\n",
      "[2024-07-27 10:26:56,601 INFO] Average translation time (ms): 3.6\n",
      "[2024-07-27 10:26:56,601 INFO] Tokens per second: 2981.5\n",
      "Time w/o python interpreter load/terminate:  39.50878310203552\n"
     ]
    }
   ],
   "source": [
    "!python3 OpenNMT-py/translate.py --config models/nllb-inference.yaml -src data/base_dyu.txt -output evals/eval_V1_1600.txt"
   ]
  },
  {
   "cell_type": "code",
   "execution_count": 4,
   "metadata": {},
   "outputs": [
    {
     "name": "stdout",
     "output_type": "stream",
     "text": [
      "{\n",
      " \"name\": \"BLEU\",\n",
      " \"score\": 4.1,\n",
      " \"signature\": \"nrefs:1|case:mixed|eff:no|tok:13a|smooth:exp|version:2.4.2\",\n",
      " \"verbose_score\": \"25.1/5.2/2.1/1.0 (BP = 1.000 ratio = 1.096 hyp_len = 70170 ref_len = 64041)\",\n",
      " \"nrefs\": \"1\",\n",
      " \"case\": \"mixed\",\n",
      " \"eff\": \"no\",\n",
      " \"tok\": \"13a\",\n",
      " \"smooth\": \"exp\",\n",
      " \"version\": \"2.4.2\"\n",
      "}\n",
      "\u001b[0m"
     ]
    }
   ],
   "source": [
    "!sacrebleu data/base_fr.txt -m bleu -l dyu-fra -i evals/eval_V1_1600.txt"
   ]
  },
  {
   "cell_type": "code",
   "execution_count": 5,
   "metadata": {},
   "outputs": [
    {
     "name": "stdout",
     "output_type": "stream",
     "text": [
      "[2024-07-27 10:27:51,756 INFO] Loading checkpoint from /root/projects/zindi/nmt_train/models/nllb-200-600M-zindi_V1_step_1600.pt\n",
      "[2024-07-27 10:27:55,119 INFO] Loading data into the model\n",
      "[2024-07-27 10:29:40,299 INFO] PRED SCORE: -1.1250, PRED PPL: 3.08 NB SENTENCES: 15563\n",
      "[2024-07-27 10:29:40,299 INFO] GOLD SCORE: -4.3646, GOLD PPL: 78.62 NB SENTENCES: 15563\n",
      "[2024-07-27 10:29:40,299 INFO] Total translation time (s): 103.6\n",
      "[2024-07-27 10:29:40,299 INFO] Average translation time (ms): 6.7\n",
      "[2024-07-27 10:29:40,299 INFO] Tokens per second: 2721.1\n",
      "Time w/o python interpreter load/terminate:  108.71306991577148\n"
     ]
    }
   ],
   "source": [
    "!python3 OpenNMT-py/translate.py --config models/nllb-inference.yaml -src data/all_dyu.txt -output evals/eval_V1_all_1600.txt"
   ]
  },
  {
   "cell_type": "code",
   "execution_count": 6,
   "metadata": {},
   "outputs": [
    {
     "name": "stdout",
     "output_type": "stream",
     "text": [
      "{\n",
      " \"name\": \"BLEU\",\n",
      " \"score\": 2.4,\n",
      " \"signature\": \"nrefs:1|case:mixed|eff:no|tok:13a|smooth:exp|version:2.4.2\",\n",
      " \"verbose_score\": \"20.7/3.7/1.2/0.5 (BP = 0.945 ratio = 0.946 hyp_len = 218756 ref_len = 231197)\",\n",
      " \"nrefs\": \"1\",\n",
      " \"case\": \"mixed\",\n",
      " \"eff\": \"no\",\n",
      " \"tok\": \"13a\",\n",
      " \"smooth\": \"exp\",\n",
      " \"version\": \"2.4.2\"\n",
      "}\n",
      "\u001b[0m"
     ]
    }
   ],
   "source": [
    "!sacrebleu data/all_fr.txt -m bleu -l dyu-fra -i evals/eval_V1_all_1600.txt"
   ]
  },
  {
   "cell_type": "code",
   "execution_count": 3,
   "metadata": {},
   "outputs": [
    {
     "name": "stdout",
     "output_type": "stream",
     "text": [
      "[2024-07-27 11:50:50,657 INFO] Loading checkpoint from /root/projects/zindi/nmt_train/models/nllb-200-600M-zindi_V2_step_500.pt\n",
      "[2024-07-27 11:50:53,946 INFO] Loading data into the model\n",
      "[2024-07-27 11:51:31,081 INFO] PRED SCORE: -1.0136, PRED PPL: 2.76 NB SENTENCES: 9536\n",
      "[2024-07-27 11:51:31,081 INFO] GOLD SCORE: -4.5952, GOLD PPL: 99.01 NB SENTENCES: 9536\n",
      "[2024-07-27 11:51:31,081 INFO] Total translation time (s): 35.5\n",
      "[2024-07-27 11:51:31,081 INFO] Average translation time (ms): 3.7\n",
      "[2024-07-27 11:51:31,081 INFO] Tokens per second: 2991.7\n",
      "Time w/o python interpreter load/terminate:  40.57505822181702\n",
      "{\n",
      " \"name\": \"BLEU\",\n",
      " \"score\": 3.7,\n",
      " \"signature\": \"nrefs:1|case:mixed|eff:no|tok:13a|smooth:exp|version:2.4.2\",\n",
      " \"verbose_score\": \"24.0/4.6/1.9/0.9 (BP = 1.000 ratio = 1.144 hyp_len = 73276 ref_len = 64041)\",\n",
      " \"nrefs\": \"1\",\n",
      " \"case\": \"mixed\",\n",
      " \"eff\": \"no\",\n",
      " \"tok\": \"13a\",\n",
      " \"smooth\": \"exp\",\n",
      " \"version\": \"2.4.2\"\n",
      "}\n",
      "\u001b[0m[2024-07-27 11:51:35,518 INFO] Loading checkpoint from /root/projects/zindi/nmt_train/models/nllb-200-600M-zindi_V2_step_500.pt\n",
      "[2024-07-27 11:51:38,830 INFO] Loading data into the model\n",
      "[2024-07-27 11:53:29,248 INFO] PRED SCORE: -1.1270, PRED PPL: 3.09 NB SENTENCES: 15563\n",
      "[2024-07-27 11:53:29,249 INFO] GOLD SCORE: -5.2962, GOLD PPL: 199.58 NB SENTENCES: 15563\n",
      "[2024-07-27 11:53:29,249 INFO] Total translation time (s): 108.8\n",
      "[2024-07-27 11:53:29,249 INFO] Average translation time (ms): 7.0\n",
      "[2024-07-27 11:53:29,249 INFO] Tokens per second: 2753.6\n",
      "Time w/o python interpreter load/terminate:  113.89830017089844\n",
      "{\n",
      " \"name\": \"BLEU\",\n",
      " \"score\": 3.6,\n",
      " \"signature\": \"nrefs:1|case:mixed|eff:no|tok:13a|smooth:exp|version:2.4.2\",\n",
      " \"verbose_score\": \"26.5/5.3/1.9/0.8 (BP = 0.966 ratio = 0.966 hyp_len = 223436 ref_len = 231197)\",\n",
      " \"nrefs\": \"1\",\n",
      " \"case\": \"mixed\",\n",
      " \"eff\": \"no\",\n",
      " \"tok\": \"13a\",\n",
      " \"smooth\": \"exp\",\n",
      " \"version\": \"2.4.2\"\n",
      "}\n",
      "\u001b[0m"
     ]
    }
   ],
   "source": [
    "!python3 OpenNMT-py/translate.py --config models/nllb-inference.yaml -src data/base_dyu.txt -output evals/eval_BASE_V2_500.txt\n",
    "!sacrebleu data/base_fr.txt -m bleu -l dyu-fra -i evals/eval_BASE_V2_500.txt\n",
    "!python3 OpenNMT-py/translate.py --config models/nllb-inference.yaml -src data/all_dyu.txt -output evals/eval_ALL_V2_500.txt\n",
    "!sacrebleu data/all_fr.txt -m bleu -l dyu-fra -i evals/eval_ALL_V2_500.txt"
   ]
  },
  {
   "cell_type": "code",
   "execution_count": 3,
   "metadata": {},
   "outputs": [
    {
     "name": "stdout",
     "output_type": "stream",
     "text": [
      "/root/zindi-nmt\n"
     ]
    },
    {
     "name": "stdout",
     "output_type": "stream",
     "text": [
      "[2024-07-28 15:31:34,373 INFO] Loading checkpoint from /root/zindi-nmt/models/nllb-200-600M-zindi_V9_step_200.pt\n",
      "[2024-07-28 15:31:40,258 INFO] Loading data into the model\n",
      "[2024-07-28 15:31:53,904 INFO] PRED SCORE: -3.1201, PRED PPL: 22.65 NB SENTENCES: 9536\n",
      "[2024-07-28 15:31:53,904 INFO] Total translation time (s): 12.4\n",
      "[2024-07-28 15:31:53,904 INFO] Average translation time (ms): 1.3\n",
      "[2024-07-28 15:31:53,904 INFO] Tokens per second: 1533.5\n",
      "Time w/o python interpreter load/terminate:  19.549019813537598\n",
      "{\n",
      " \"name\": \"BLEU\",\n",
      " \"score\": 0.0,\n",
      " \"signature\": \"nrefs:1|case:mixed|eff:no|tok:13a|smooth:exp|version:2.4.2\",\n",
      " \"verbose_score\": \"0.0/0.0/0.0/0.0 (BP = 0.000 ratio = 0.000 hyp_len = 0 ref_len = 64041)\",\n",
      " \"nrefs\": \"1\",\n",
      " \"case\": \"mixed\",\n",
      " \"eff\": \"no\",\n",
      " \"tok\": \"13a\",\n",
      " \"smooth\": \"exp\",\n",
      " \"version\": \"2.4.2\"\n",
      "}\n",
      "\u001b[0m[2024-07-28 15:31:57,117 INFO] Loading checkpoint from /root/zindi-nmt/models/nllb-200-600M-zindi_V9_step_200.pt\n",
      "[2024-07-28 15:32:02,378 INFO] Loading data into the model\n",
      "[2024-07-28 15:32:35,924 INFO] PRED SCORE: -3.0982, PRED PPL: 22.16 NB SENTENCES: 15563\n",
      "[2024-07-28 15:32:35,924 INFO] Total translation time (s): 32.2\n",
      "[2024-07-28 15:32:35,924 INFO] Average translation time (ms): 2.1\n",
      "[2024-07-28 15:32:35,924 INFO] Tokens per second: 966.6\n",
      "Time w/o python interpreter load/terminate:  38.83476805686951\n",
      "{\n",
      " \"name\": \"BLEU\",\n",
      " \"score\": 0.0,\n",
      " \"signature\": \"nrefs:1|case:mixed|eff:no|tok:13a|smooth:exp|version:2.4.2\",\n",
      " \"verbose_score\": \"0.0/0.0/0.0/0.0 (BP = 0.000 ratio = 0.000 hyp_len = 0 ref_len = 231197)\",\n",
      " \"nrefs\": \"1\",\n",
      " \"case\": \"mixed\",\n",
      " \"eff\": \"no\",\n",
      " \"tok\": \"13a\",\n",
      " \"smooth\": \"exp\",\n",
      " \"version\": \"2.4.2\"\n",
      "}\n",
      "\u001b[0m"
     ]
    }
   ],
   "source": [
    "%cd /root/zindi-nmt/\n",
    "!python3 OpenNMT-py/translate.py --config models/nllb-inference.yaml -src data/base_dyu.txt -output evals/test\n",
    "!sacrebleu data/base_fr.txt -m bleu -l dyu-fra -i evals/test\n",
    "!python3 OpenNMT-py/translate.py --config models/nllb-inference.yaml -src data/all_dyu.txt -output evals/test1\n",
    "!sacrebleu data/all_fr.txt -m bleu -l dyu-fra -i evals/test1"
   ]
  },
  {
   "cell_type": "code",
   "execution_count": null,
   "metadata": {},
   "outputs": [],
   "source": [
    "!python3 OpenNMT-py/translate.py --config models/nllb-inference.yaml -src data/base_dyu.txt -output evals/eval_BASE_V6_6000.txt\n",
    "!sacrebleu data/base_fr.txt -m bleu -l dyu-fra -i evals/eval_BASE_V6_6000.txt\n",
    "!python3 OpenNMT-py/translate.py --config models/nllb-inference.yaml -src data/all_dyu.txt -output evals/eval_ALL_V3_6000.txt\n",
    "!sacrebleu data/all_fr.txt -m bleu -l dyu-fra -i evals/eval_ALL_V6_6000.txt"
   ]
  },
  {
   "cell_type": "code",
   "execution_count": null,
   "metadata": {},
   "outputs": [],
   "source": [
    "!python3 OpenNMT-py/translate.py --config models/nllb-inference.yaml -src data/base_dyu.txt -output evals/eval_BASE_V6_7000.txt\n",
    "!sacrebleu data/base_fr.txt -m bleu -l dyu-fra -i evals/eval_BASE_V6_7000.txt\n",
    "!python3 OpenNMT-py/translate.py --config models/nllb-inference.yaml -src data/all_dyu.txt -output evals/eval_ALL_V3_7000.txt\n",
    "!sacrebleu data/all_fr.txt -m bleu -l dyu-fra -i evals/eval_ALL_V6_7000.txt"
   ]
  },
  {
   "cell_type": "code",
   "execution_count": null,
   "metadata": {},
   "outputs": [],
   "source": [
    "!python3 OpenNMT-py/translate.py --config models/nllb-inference.yaml -src data/base_dyu.txt -output evals/eval_BASE_V6_8000.txt\n",
    "!sacrebleu data/base_fr.txt -m bleu -l dyu-fra -i evals/eval_BASE_V6_8000.txt\n",
    "!python3 OpenNMT-py/translate.py --config models/nllb-inference.yaml -src data/all_dyu.txt -output evals/eval_ALL_V3_8000.txt\n",
    "!sacrebleu data/all_fr.txt -m bleu -l dyu-fra -i evals/eval_ALL_V6_8000.txt"
   ]
  }
 ],
 "metadata": {
  "kernelspec": {
   "display_name": "nmt-train-93Y4ewMI-py3.10",
   "language": "python",
   "name": "python3"
  },
  "language_info": {
   "codemirror_mode": {
    "name": "ipython",
    "version": 3
   },
   "file_extension": ".py",
   "mimetype": "text/x-python",
   "name": "python",
   "nbconvert_exporter": "python",
   "pygments_lexer": "ipython3",
   "version": "3.10.13"
  }
 },
 "nbformat": 4,
 "nbformat_minor": 2
}
